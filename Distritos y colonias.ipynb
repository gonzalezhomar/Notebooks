{
 "cells": [
  {
   "cell_type": "code",
   "execution_count": 1,
   "id": "aware-credit",
   "metadata": {},
   "outputs": [],
   "source": [
    "import pandas as pd\n",
    "import geopandas as gpd\n",
    "import matplotlib.pyplot as plt"
   ]
  },
  {
   "cell_type": "code",
   "execution_count": 4,
   "id": "optimum-forwarding",
   "metadata": {},
   "outputs": [
    {
     "data": {
      "text/html": [
       "<div>\n",
       "<style scoped>\n",
       "    .dataframe tbody tr th:only-of-type {\n",
       "        vertical-align: middle;\n",
       "    }\n",
       "\n",
       "    .dataframe tbody tr th {\n",
       "        vertical-align: top;\n",
       "    }\n",
       "\n",
       "    .dataframe thead th {\n",
       "        text-align: right;\n",
       "    }\n",
       "</style>\n",
       "<table border=\"1\" class=\"dataframe\">\n",
       "  <thead>\n",
       "    <tr style=\"text-align: right;\">\n",
       "      <th></th>\n",
       "      <th>gid</th>\n",
       "      <th>id</th>\n",
       "      <th>entidad</th>\n",
       "      <th>distrito_l</th>\n",
       "      <th>geometry1_</th>\n",
       "      <th>ln</th>\n",
       "      <th>pad</th>\n",
       "      <th>geometry</th>\n",
       "    </tr>\n",
       "  </thead>\n",
       "  <tbody>\n",
       "    <tr>\n",
       "      <th>0</th>\n",
       "      <td>49</td>\n",
       "      <td>49.0</td>\n",
       "      <td>3</td>\n",
       "      <td>14</td>\n",
       "      <td>1=X\\</td>\n",
       "      <td>23670</td>\n",
       "      <td>24236</td>\n",
       "      <td>MULTIPOLYGON (((-1127623.363 1685002.585, -112...</td>\n",
       "    </tr>\n",
       "    <tr>\n",
       "      <th>1</th>\n",
       "      <td>46</td>\n",
       "      <td>46.0</td>\n",
       "      <td>3</td>\n",
       "      <td>11</td>\n",
       "      <td>1=X\\</td>\n",
       "      <td>25533</td>\n",
       "      <td>26109</td>\n",
       "      <td>MULTIPOLYGON (((-1016843.262 1481006.074, -101...</td>\n",
       "    </tr>\n",
       "    <tr>\n",
       "      <th>2</th>\n",
       "      <td>98</td>\n",
       "      <td>103.0</td>\n",
       "      <td>6</td>\n",
       "      <td>15</td>\n",
       "      <td>1=Xi/</td>\n",
       "      <td>26566</td>\n",
       "      <td>26941</td>\n",
       "      <td>POLYGON ((-204099.213 775170.610, -204053.812 ...</td>\n",
       "    </tr>\n",
       "    <tr>\n",
       "      <th>3</th>\n",
       "      <td>45</td>\n",
       "      <td>45.0</td>\n",
       "      <td>3</td>\n",
       "      <td>10</td>\n",
       "      <td>1=X\\p</td>\n",
       "      <td>26984</td>\n",
       "      <td>27578</td>\n",
       "      <td>MULTIPOLYGON (((-977979.547 1403430.758, -9780...</td>\n",
       "    </tr>\n",
       "    <tr>\n",
       "      <th>4</th>\n",
       "      <td>69</td>\n",
       "      <td>69.0</td>\n",
       "      <td>4</td>\n",
       "      <td>18</td>\n",
       "      <td>1=X</td>\n",
       "      <td>27157</td>\n",
       "      <td>27637</td>\n",
       "      <td>POLYGON ((1273204.716 959124.262, 1275220.679 ...</td>\n",
       "    </tr>\n",
       "  </tbody>\n",
       "</table>\n",
       "</div>"
      ],
      "text/plain": [
       "   gid     id  entidad  distrito_l geometry1_     ln    pad  \\\n",
       "0   49   49.0        3          14       1=X\\  23670  24236   \n",
       "1   46   46.0        3          11       1=X\\  25533  26109   \n",
       "2   98  103.0        6          15      1=Xi/  26566  26941   \n",
       "3   45   45.0        3          10      1=X\\p  26984  27578   \n",
       "4   69   69.0        4          18        1=X  27157  27637   \n",
       "\n",
       "                                            geometry  \n",
       "0  MULTIPOLYGON (((-1127623.363 1685002.585, -112...  \n",
       "1  MULTIPOLYGON (((-1016843.262 1481006.074, -101...  \n",
       "2  POLYGON ((-204099.213 775170.610, -204053.812 ...  \n",
       "3  MULTIPOLYGON (((-977979.547 1403430.758, -9780...  \n",
       "4  POLYGON ((1273204.716 959124.262, 1275220.679 ...  "
      ]
     },
     "execution_count": 4,
     "metadata": {},
     "output_type": "execute_result"
    }
   ],
   "source": [
    "distloc_df = gpd.read_file('DISTRITO_LOCAL.shp', driver='ESRI Shapefile')\n",
    "#shapes_df = shapes_df[['ESTADO', 'geometry']]\n",
    "distloc_df.head()"
   ]
  },
  {
   "cell_type": "code",
   "execution_count": 8,
   "id": "twenty-comedy",
   "metadata": {},
   "outputs": [],
   "source": [
    "distloc_gto=distloc_df[distloc_df[\"entidad\"]==11] \n",
    "distloc_leon=distloc_gto[(distloc_gto[\"distrito_l\"]==3) | \n",
    "                        (distloc_gto[\"distrito_l\"]==4) | \n",
    "                        (distloc_gto[\"distrito_l\"]==5) | \n",
    "                        (distloc_gto[\"distrito_l\"]==6) | \n",
    "                        (distloc_gto[\"distrito_l\"]==7) | \n",
    "                        (distloc_gto[\"distrito_l\"]==21)]"
   ]
  },
  {
   "cell_type": "code",
   "execution_count": 9,
   "id": "focused-robin",
   "metadata": {},
   "outputs": [
    {
     "data": {
      "text/plain": [
       "<AxesSubplot:>"
      ]
     },
     "execution_count": 9,
     "metadata": {},
     "output_type": "execute_result"
    },
    {
     "data": {
      "image/png": "[encoded data removed]",
      "text/plain": [
       "<Figure size 432x288 with 1 Axes>"
      ]
     },
     "metadata": {
      "needs_background": "light"
     },
     "output_type": "display_data"
    }
   ],
   "source": [
    "distloc_leon.plot()"
   ]
  },
  {
   "cell_type": "code",
   "execution_count": 11,
   "id": "earlier-rouge",
   "metadata": {},
   "outputs": [],
   "source": [
    "distloc_leon.to_file(\"distloc_leon.shp\")"
   ]
  },
  {
   "cell_type": "code",
   "execution_count": 12,
   "id": "advanced-champion",
   "metadata": {},
   "outputs": [
    {
     "data": {
      "text/html": [
       "<div>\n",
       "<style scoped>\n",
       "    .dataframe tbody tr th:only-of-type {\n",
       "        vertical-align: middle;\n",
       "    }\n",
       "\n",
       "    .dataframe tbody tr th {\n",
       "        vertical-align: top;\n",
       "    }\n",
       "\n",
       "    .dataframe thead th {\n",
       "        text-align: right;\n",
       "    }\n",
       "</style>\n",
       "<table border=\"1\" class=\"dataframe\">\n",
       "  <thead>\n",
       "    <tr style=\"text-align: right;\">\n",
       "      <th></th>\n",
       "      <th>gid</th>\n",
       "      <th>id</th>\n",
       "      <th>entidad</th>\n",
       "      <th>municipio</th>\n",
       "      <th>nombre</th>\n",
       "      <th>clasificac</th>\n",
       "      <th>cp</th>\n",
       "      <th>otros_cp</th>\n",
       "      <th>control</th>\n",
       "      <th>geometry1_</th>\n",
       "      <th>geometry</th>\n",
       "    </tr>\n",
       "  </thead>\n",
       "  <tbody>\n",
       "    <tr>\n",
       "      <th>0</th>\n",
       "      <td>1</td>\n",
       "      <td>1.0</td>\n",
       "      <td>11</td>\n",
       "      <td>2</td>\n",
       "      <td>LOMA BONITA</td>\n",
       "      <td>2</td>\n",
       "      <td>38610.0</td>\n",
       "      <td>None</td>\n",
       "      <td>1.0</td>\n",
       "      <td>1=X=lj5</td>\n",
       "      <td>POLYGON ((321097.922 2218060.838, 321126.326 2...</td>\n",
       "    </tr>\n",
       "    <tr>\n",
       "      <th>1</th>\n",
       "      <td>2</td>\n",
       "      <td>2.0</td>\n",
       "      <td>11</td>\n",
       "      <td>2</td>\n",
       "      <td>LOMA BONITA DOS</td>\n",
       "      <td>2</td>\n",
       "      <td>38610.0</td>\n",
       "      <td>None</td>\n",
       "      <td>2.0</td>\n",
       "      <td>1=X=lI</td>\n",
       "      <td>POLYGON ((321403.974 2218289.498, 321446.201 2...</td>\n",
       "    </tr>\n",
       "    <tr>\n",
       "      <th>2</th>\n",
       "      <td>3</td>\n",
       "      <td>3.0</td>\n",
       "      <td>11</td>\n",
       "      <td>2</td>\n",
       "      <td>LA VEGA</td>\n",
       "      <td>1</td>\n",
       "      <td>38610.0</td>\n",
       "      <td>None</td>\n",
       "      <td>3.0</td>\n",
       "      <td>1=X=lI</td>\n",
       "      <td>POLYGON ((322025.701 2217840.845, 322084.663 2...</td>\n",
       "    </tr>\n",
       "    <tr>\n",
       "      <th>3</th>\n",
       "      <td>4</td>\n",
       "      <td>4.0</td>\n",
       "      <td>11</td>\n",
       "      <td>2</td>\n",
       "      <td>LAS FLORES</td>\n",
       "      <td>1</td>\n",
       "      <td>38610.0</td>\n",
       "      <td>None</td>\n",
       "      <td>4.0</td>\n",
       "      <td>1=X=lj5</td>\n",
       "      <td>POLYGON ((320162.465 2218012.193, 320340.933 2...</td>\n",
       "    </tr>\n",
       "    <tr>\n",
       "      <th>4</th>\n",
       "      <td>5</td>\n",
       "      <td>5.0</td>\n",
       "      <td>11</td>\n",
       "      <td>2</td>\n",
       "      <td>EL MIRADOR</td>\n",
       "      <td>2</td>\n",
       "      <td>38610.0</td>\n",
       "      <td>None</td>\n",
       "      <td>5.0</td>\n",
       "      <td>1=X=lj6</td>\n",
       "      <td>POLYGON ((319932.126 2217376.943, 320030.090 2...</td>\n",
       "    </tr>\n",
       "  </tbody>\n",
       "</table>\n",
       "</div>"
      ],
      "text/plain": [
       "   gid   id  entidad  municipio           nombre  clasificac       cp  \\\n",
       "0    1  1.0       11          2      LOMA BONITA           2  38610.0   \n",
       "1    2  2.0       11          2  LOMA BONITA DOS           2  38610.0   \n",
       "2    3  3.0       11          2          LA VEGA           1  38610.0   \n",
       "3    4  4.0       11          2       LAS FLORES           1  38610.0   \n",
       "4    5  5.0       11          2       EL MIRADOR           2  38610.0   \n",
       "\n",
       "  otros_cp  control geometry1_  \\\n",
       "0     None      1.0    1=X=lj5   \n",
       "1     None      2.0     1=X=lI   \n",
       "2     None      3.0     1=X=lI   \n",
       "3     None      4.0    1=X=lj5   \n",
       "4     None      5.0    1=X=lj6   \n",
       "\n",
       "                                            geometry  \n",
       "0  POLYGON ((321097.922 2218060.838, 321126.326 2...  \n",
       "1  POLYGON ((321403.974 2218289.498, 321446.201 2...  \n",
       "2  POLYGON ((322025.701 2217840.845, 322084.663 2...  \n",
       "3  POLYGON ((320162.465 2218012.193, 320340.933 2...  \n",
       "4  POLYGON ((319932.126 2217376.943, 320030.090 2...  "
      ]
     },
     "execution_count": 12,
     "metadata": {},
     "output_type": "execute_result"
    }
   ],
   "source": [
    "shapes_df = gpd.read_file('colonias_ine_2017.shp', driver='ESRI Shapefile')\n",
    "shapes_df.head()"
   ]
  },
  {
   "cell_type": "code",
   "execution_count": 13,
   "id": "worldwide-advocacy",
   "metadata": {},
   "outputs": [
    {
     "data": {
      "text/plain": [
       "<AxesSubplot:>"
      ]
     },
     "execution_count": 13,
     "metadata": {},
     "output_type": "execute_result"
    },
    {
     "data": {
      "image/png": "[encoded data removed]",
      "text/plain": [
       "<Figure size 432x288 with 1 Axes>"
      ]
     },
     "metadata": {
      "needs_background": "light"
     },
     "output_type": "display_data"
    }
   ],
   "source": [
    "leon_col=shapes_df[shapes_df[\"municipio\"]==20]\n",
    "leon_col.to_file(\"leon_col.shp\")\n",
    "leon_col.plot()"
   ]
  }
 ],
 "metadata": {
  "kernelspec": {
   "display_name": "Python 3",
   "language": "python",
   "name": "python3"
  },
  "language_info": {
   "codemirror_mode": {
    "name": "ipython",
    "version": 3
   },
   "file_extension": ".py",
   "mimetype": "text/x-python",
   "name": "python",
   "nbconvert_exporter": "python",
   "pygments_lexer": "ipython3",
   "version": "3.7.10"
  }
 },
 "nbformat": 4,
 "nbformat_minor": 5
}
