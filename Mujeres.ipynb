{
 "cells": [
  {
   "cell_type": "code",
   "execution_count": 1,
   "id": "powerful-victor",
   "metadata": {},
   "outputs": [],
   "source": [
    "import requests\n",
    "from bs4 import BeautifulSoup\n",
    "import pandas as pd\n",
    "import html5lib\n",
    "from urllib.request import Request, urlopen\n",
    "import lxml.html as lh\n",
    "from selenium import webdriver"
   ]
  },
  {
   "cell_type": "code",
   "execution_count": 2,
   "id": "nasty-creek",
   "metadata": {},
   "outputs": [],
   "source": [
    "browser = webdriver.Chrome()\n",
    "browser.get(\"https://www.forbes.com.mx/mujeres-poderosas-2020/\")\n",
    "html = browser.page_source\n",
    "soup = BeautifulSoup(html, 'html5lib') # I'd also recommend using html5lib"
   ]
  },
  {
   "cell_type": "code",
   "execution_count": 3,
   "id": "lightweight-clark",
   "metadata": {},
   "outputs": [
    {
     "name": "stdout",
     "output_type": "stream",
     "text": [
      "<people-item><!---->\n",
      "                        <div class=\"card-wrap\">\n",
      "                            <div class=\"card-front\">\n",
      "                                <div class=\"ratio1x1 item-image\" style=\"background-image: url(https://cdn.forbes.com.mx/2020/06/Cuadrada-Monica-Aspe.jpg);\"></div>\n",
      "                                <div class=\"overlay-item-info\">\n",
      "                                    <span class=\"name\"><!---->Mónica Aspe <!----></span>\n",
      "                                    <span class=\"desc\"><!---->CEO interina en AT&amp;T<!----></span>\n",
      "                                </div>\n",
      "                            </div>\n",
      "                        \n",
      "                            <div class=\"more-wrapper\">\n",
      "                                \n",
      "                                <span class=\"more\">\n",
      "                                    <button type=\"button\">Ver más</button>\n",
      "                                </span>\n",
      "                            </div>\n",
      "                        </div>\n",
      "                    <!----></people-item>\n"
     ]
    }
   ],
   "source": [
    "div = soup.find_all('people-item')\n",
    "print(div[0])"
   ]
  },
  {
   "cell_type": "code",
   "execution_count": 4,
   "id": "scenic-ensemble",
   "metadata": {},
   "outputs": [
    {
     "name": "stdout",
     "output_type": "stream",
     "text": [
      "[<div class=\"ratio1x1 item-image\" style=\"background-image: url(https://cdn.forbes.com.mx/2020/06/Cuadrada-Monica-Aspe.jpg);\"></div>]\n"
     ]
    }
   ],
   "source": [
    "div2=div[0].find_all('div', class_=\"ratio1x1 item-image\")\n",
    "print(div2)"
   ]
  },
  {
   "cell_type": "code",
   "execution_count": 5,
   "id": "pacific-portland",
   "metadata": {},
   "outputs": [
    {
     "name": "stdout",
     "output_type": "stream",
     "text": [
      "[<span class=\"name\"><!---->Mónica Aspe <!----></span>]\n"
     ]
    }
   ],
   "source": [
    "div3=div[0].find_all('span', class_=\"name\")\n",
    "print(div3)"
   ]
  },
  {
   "cell_type": "code",
   "execution_count": 6,
   "id": "determined-divide",
   "metadata": {},
   "outputs": [
    {
     "name": "stdout",
     "output_type": "stream",
     "text": [
      "[<span class=\"desc\"><!---->CEO interina en AT&amp;T<!----></span>]\n"
     ]
    }
   ],
   "source": [
    "div4=div[0].find_all('span', class_=\"desc\")\n",
    "print(div4)"
   ]
  },
  {
   "cell_type": "code",
   "execution_count": 7,
   "id": "blocked-jewelry",
   "metadata": {},
   "outputs": [],
   "source": [
    "imagenes=[]\n",
    "nombres=[]\n",
    "puestos=[]"
   ]
  },
  {
   "cell_type": "code",
   "execution_count": 8,
   "id": "elementary-joseph",
   "metadata": {},
   "outputs": [],
   "source": [
    "for x in div:\n",
    "    imagen=x.find_all('div', class_=\"ratio1x1 item-image\")\n",
    "    imagenes.append(imagen)\n",
    "    nombre=x.find_all('span', class_=\"name\")\n",
    "    nombres.append(nombre)\n",
    "    puesto=x.find_all('span', class_=\"desc\")\n",
    "    puestos.append(puesto)"
   ]
  },
  {
   "cell_type": "code",
   "execution_count": 9,
   "id": "decent-theology",
   "metadata": {},
   "outputs": [],
   "source": [
    "element = browser.find_elements_by_tag_name('li')\n",
    "element[9].click()"
   ]
  },
  {
   "cell_type": "code",
   "execution_count": 10,
   "id": "serious-reasoning",
   "metadata": {},
   "outputs": [
    {
     "name": "stdout",
     "output_type": "stream",
     "text": [
      "<people-item><!---->\n",
      "                        <div class=\"card-wrap\">\n",
      "                            <div class=\"card-front\">\n",
      "                                <div class=\"ratio1x1 item-image\" style=\"background-image: url(https://cdn.forbes.com.mx/2020/06/21-Cuadrada-Gina-Diez.jpg);\"></div>\n",
      "                                <div class=\"overlay-item-info\">\n",
      "                                    <span class=\"name\"><!---->Gina Diez Barroso <!----></span>\n",
      "                                    <span class=\"desc\"><!---->Empresaria fundadora de Dalia Empower<!----></span>\n",
      "                                </div>\n",
      "                            </div>\n",
      "                        \n",
      "                            <div class=\"more-wrapper\">\n",
      "                                \n",
      "                                <span class=\"more\">\n",
      "                                    <button type=\"button\">Ver más</button>\n",
      "                                </span>\n",
      "                            </div>\n",
      "                        </div>\n",
      "                    <!----></people-item>\n"
     ]
    }
   ],
   "source": [
    "html = browser.page_source\n",
    "soup = BeautifulSoup(html, 'html5lib') # I'd also recommend using html5lib\n",
    "div = soup.find_all('people-item')\n",
    "print(div[0])"
   ]
  },
  {
   "cell_type": "code",
   "execution_count": 11,
   "id": "average-rapid",
   "metadata": {},
   "outputs": [],
   "source": [
    "for x in div:\n",
    "    imagen=x.find_all('div', class_=\"ratio1x1 item-image\")\n",
    "    imagenes.append(imagen)\n",
    "    nombre=x.find_all('span', class_=\"name\")\n",
    "    nombres.append(nombre)\n",
    "    puesto=x.find_all('span', class_=\"desc\")\n",
    "    puestos.append(puesto)"
   ]
  },
  {
   "cell_type": "code",
   "execution_count": 12,
   "id": "stunning-superior",
   "metadata": {},
   "outputs": [
    {
     "name": "stdout",
     "output_type": "stream",
     "text": [
      "<people-item><!---->\n",
      "                        <div class=\"card-wrap\">\n",
      "                            <div class=\"card-front\">\n",
      "                                <div class=\"ratio1x1 item-image\" style=\"background-image: url(https://cdn.forbes.com.mx/2020/06/Cuadrada-Fabiana-Zepeda.jpg);\"></div>\n",
      "                                <div class=\"overlay-item-info\">\n",
      "                                    <span class=\"name\"><!---->Fabiana Zepeda<!----></span>\n",
      "                                    <span class=\"desc\"><!---->Jefa de la División de Programas de Enfermería del IMSS<!----></span>\n",
      "                                </div>\n",
      "                            </div>\n",
      "                        \n",
      "                            <div class=\"more-wrapper\">\n",
      "                                \n",
      "                                <span class=\"more\">\n",
      "                                    <button type=\"button\">Ver más</button>\n",
      "                                </span>\n",
      "                            </div>\n",
      "                        </div>\n",
      "                    <!----></people-item>\n"
     ]
    }
   ],
   "source": [
    "element[10].click()\n",
    "html = browser.page_source\n",
    "soup = BeautifulSoup(html, 'html5lib') # I'd also recommend using html5lib\n",
    "div = soup.find_all('people-item')\n",
    "print(div[0])"
   ]
  },
  {
   "cell_type": "code",
   "execution_count": 13,
   "id": "individual-recovery",
   "metadata": {},
   "outputs": [],
   "source": [
    "for x in div:\n",
    "    imagen=x.find_all('div', class_=\"ratio1x1 item-image\")\n",
    "    imagenes.append(imagen)\n",
    "    nombre=x.find_all('span', class_=\"name\")\n",
    "    nombres.append(nombre)\n",
    "    puesto=x.find_all('span', class_=\"desc\")\n",
    "    puestos.append(puesto)"
   ]
  },
  {
   "cell_type": "code",
   "execution_count": 14,
   "id": "solved-kelly",
   "metadata": {},
   "outputs": [
    {
     "name": "stdout",
     "output_type": "stream",
     "text": [
      "<people-item><!---->\n",
      "                        <div class=\"card-wrap\">\n",
      "                            <div class=\"card-front\">\n",
      "                                <div class=\"ratio1x1 item-image\" style=\"background-image: url(https://cdn.forbes.com.mx/2020/06/Cuadrada-Marinela-Servitje.jpg);\"></div>\n",
      "                                <div class=\"overlay-item-info\">\n",
      "                                    <span class=\"name\"><!---->Marianela Servitje<!----></span>\n",
      "                                    <span class=\"desc\"><!---->Fundadora y directora de Siete Colores<!----></span>\n",
      "                                </div>\n",
      "                            </div>\n",
      "                        \n",
      "                            <div class=\"more-wrapper\">\n",
      "                                \n",
      "                                <span class=\"more\">\n",
      "                                    <button type=\"button\">Ver más</button>\n",
      "                                </span>\n",
      "                            </div>\n",
      "                        </div>\n",
      "                    <!----></people-item>\n"
     ]
    }
   ],
   "source": [
    "element[11].click()\n",
    "html = browser.page_source\n",
    "soup = BeautifulSoup(html, 'html5lib') # I'd also recommend using html5lib\n",
    "div = soup.find_all('people-item')\n",
    "print(div[0])"
   ]
  },
  {
   "cell_type": "code",
   "execution_count": 15,
   "id": "linear-nickel",
   "metadata": {},
   "outputs": [],
   "source": [
    "for x in div:\n",
    "    imagen=x.find_all('div', class_=\"ratio1x1 item-image\")\n",
    "    imagenes.append(imagen)\n",
    "    nombre=x.find_all('span', class_=\"name\")\n",
    "    nombres.append(nombre)\n",
    "    puesto=x.find_all('span', class_=\"desc\")\n",
    "    puestos.append(puesto)"
   ]
  },
  {
   "cell_type": "code",
   "execution_count": 16,
   "id": "organic-potter",
   "metadata": {},
   "outputs": [
    {
     "name": "stdout",
     "output_type": "stream",
     "text": [
      "<people-item><!---->\n",
      "                        <div class=\"card-wrap\">\n",
      "                            <div class=\"card-front\">\n",
      "                                <div class=\"ratio1x1 item-image\" style=\"background-image: url(https://cdn.forbes.com.mx/2020/06/Clhoe-Aridjis-800.jpg);\"></div>\n",
      "                                <div class=\"overlay-item-info\">\n",
      "                                    <span class=\"name\"><!---->Chloe Aridjis <!----></span>\n",
      "                                    <span class=\"desc\"><!---->Escritora mexicana y Premio PEN/Faulkner 2020 <!----></span>\n",
      "                                </div>\n",
      "                            </div>\n",
      "                        \n",
      "                            <div class=\"more-wrapper\">\n",
      "                                \n",
      "                                <span class=\"more\">\n",
      "                                    <button type=\"button\">Ver más</button>\n",
      "                                </span>\n",
      "                            </div>\n",
      "                        </div>\n",
      "                    <!----></people-item>\n"
     ]
    }
   ],
   "source": [
    "element[12].click()\n",
    "html = browser.page_source\n",
    "soup = BeautifulSoup(html, 'html5lib') # I'd also recommend using html5lib\n",
    "div = soup.find_all('people-item')\n",
    "print(div[0])"
   ]
  },
  {
   "cell_type": "code",
   "execution_count": 17,
   "id": "precious-crystal",
   "metadata": {},
   "outputs": [],
   "source": [
    "for x in div:\n",
    "    imagen=x.find_all('div', class_=\"ratio1x1 item-image\")\n",
    "    imagenes.append(imagen)\n",
    "    nombre=x.find_all('span', class_=\"name\")\n",
    "    nombres.append(nombre)\n",
    "    puesto=x.find_all('span', class_=\"desc\")\n",
    "    puestos.append(puesto)"
   ]
  },
  {
   "cell_type": "code",
   "execution_count": 18,
   "id": "stone-wilson",
   "metadata": {},
   "outputs": [
    {
     "data": {
      "text/plain": [
       "100"
      ]
     },
     "execution_count": 18,
     "metadata": {},
     "output_type": "execute_result"
    }
   ],
   "source": [
    "len(imagenes)"
   ]
  },
  {
   "cell_type": "code",
   "execution_count": 19,
   "id": "sharing-cycle",
   "metadata": {},
   "outputs": [
    {
     "data": {
      "text/plain": [
       "100"
      ]
     },
     "execution_count": 19,
     "metadata": {},
     "output_type": "execute_result"
    }
   ],
   "source": [
    "len(nombres)"
   ]
  },
  {
   "cell_type": "code",
   "execution_count": 22,
   "id": "expired-alpha",
   "metadata": {},
   "outputs": [
    {
     "data": {
      "text/html": [
       "<div>\n",
       "<style scoped>\n",
       "    .dataframe tbody tr th:only-of-type {\n",
       "        vertical-align: middle;\n",
       "    }\n",
       "\n",
       "    .dataframe tbody tr th {\n",
       "        vertical-align: top;\n",
       "    }\n",
       "\n",
       "    .dataframe thead th {\n",
       "        text-align: right;\n",
       "    }\n",
       "</style>\n",
       "<table border=\"1\" class=\"dataframe\">\n",
       "  <thead>\n",
       "    <tr style=\"text-align: right;\">\n",
       "      <th></th>\n",
       "      <th>Imagenes</th>\n",
       "      <th>Nombres</th>\n",
       "      <th>Puestos</th>\n",
       "    </tr>\n",
       "  </thead>\n",
       "  <tbody>\n",
       "    <tr>\n",
       "      <th>0</th>\n",
       "      <td>[[]]</td>\n",
       "      <td>[[, Mónica Aspe , ]]</td>\n",
       "      <td>[[, CEO interina en AT&amp;T, ]]</td>\n",
       "    </tr>\n",
       "    <tr>\n",
       "      <th>1</th>\n",
       "      <td>[[]]</td>\n",
       "      <td>[[, Jefa Norma Torres , ]]</td>\n",
       "      <td>[[, Jefa de enfermeras del IMSS, ]]</td>\n",
       "    </tr>\n",
       "    <tr>\n",
       "      <th>2</th>\n",
       "      <td>[[]]</td>\n",
       "      <td>[[, Ana López Mestre , ]]</td>\n",
       "      <td>[[, Directora General de American Chamber Méxi...</td>\n",
       "    </tr>\n",
       "    <tr>\n",
       "      <th>3</th>\n",
       "      <td>[[]]</td>\n",
       "      <td>[[, Karen Flores Arredondo, ]]</td>\n",
       "      <td>[[, Directora General de la Camimex, ]]</td>\n",
       "    </tr>\n",
       "    <tr>\n",
       "      <th>4</th>\n",
       "      <td>[[]]</td>\n",
       "      <td>[[, Morganna Love , ]]</td>\n",
       "      <td>[[, Cantante y actriz, ]]</td>\n",
       "    </tr>\n",
       "  </tbody>\n",
       "</table>\n",
       "</div>"
      ],
      "text/plain": [
       "  Imagenes                         Nombres  \\\n",
       "0     [[]]            [[, Mónica Aspe , ]]   \n",
       "1     [[]]      [[, Jefa Norma Torres , ]]   \n",
       "2     [[]]       [[, Ana López Mestre , ]]   \n",
       "3     [[]]  [[, Karen Flores Arredondo, ]]   \n",
       "4     [[]]          [[, Morganna Love , ]]   \n",
       "\n",
       "                                             Puestos  \n",
       "0                       [[, CEO interina en AT&T, ]]  \n",
       "1                [[, Jefa de enfermeras del IMSS, ]]  \n",
       "2  [[, Directora General de American Chamber Méxi...  \n",
       "3            [[, Directora General de la Camimex, ]]  \n",
       "4                          [[, Cantante y actriz, ]]  "
      ]
     },
     "execution_count": 22,
     "metadata": {},
     "output_type": "execute_result"
    }
   ],
   "source": [
    "df = pd.DataFrame(\n",
    "    {'Imagenes': imagenes,\n",
    "    'Nombres': nombres,\n",
    "    'Puestos': puestos\n",
    "    })\n",
    "df.head()"
   ]
  },
  {
   "cell_type": "code",
   "execution_count": 50,
   "id": "unlimited-spider",
   "metadata": {
    "tags": []
   },
   "outputs": [],
   "source": [
    "import csv"
   ]
  },
  {
   "cell_type": "code",
   "execution_count": 76,
   "id": "historic-fourth",
   "metadata": {
    "tags": []
   },
   "outputs": [
    {
     "data": {
      "text/plain": [
       "'https://cdn.forbes.com.mx/2020/06/Cuadrada-Monica-Aspe.jpg'"
      ]
     },
     "execution_count": 76,
     "metadata": {},
     "output_type": "execute_result"
    }
   ],
   "source": [
    "file =  open('images2.csv', 'r')\n",
    "reader = csv.reader(file)\n",
    "items = []\n",
    "broken_images = []\n",
    "for row in reader:\n",
    "    items.append(row)\n",
    "items[0][0]"
   ]
  },
  {
   "cell_type": "code",
   "execution_count": 82,
   "id": "continental-farming",
   "metadata": {
    "collapsed": true,
    "jupyter": {
     "outputs_hidden": true
    },
    "tags": []
   },
   "outputs": [
    {
     "name": "stdout",
     "output_type": "stream",
     "text": [
      "This is the file name: Cuadrada-Monica-Aspe.jpg\n",
      "This is the file name: Cuadrada-Norma-Patricia.jpg\n",
      "This is the file name: Cuadrada-Ana-Lopez.jpg\n",
      "This is the file name: Cuadrada-Karen-Flores.jpg\n",
      "This is the file name: Cuadrada-Morgana-Love.jpg\n",
      "This is the file name: Cuadrada-Alba-Medina.jpg\n",
      "This is the file name: Cuadrada-Maria-Salguero.jpg\n",
      "This is the file name: Cuadrada-Saskia-Nino.jpg\n",
      "This is the file name: Cuadrada-Sofia-Belmar.jpg\n",
      "This is the file name: Cuadrada-Tania.jpg\n",
      "This is the file name: Cuadrada-Alexa-Moreno.jpg\n",
      "This is the file name: Cuadrada-Ana-Lucia-de-la-Garza.jpg\n",
      "This is the file name: 13-Cuadrada-Alicia-Barcena.jpg\n",
      "This is the file name: 14-Cuadrada-Maria-Ariza.jpg\n",
      "This is the file name: 15-Cuadrada-Gabrila-Siller.jpg\n",
      "This is the file name: 16-Cuadrada-Claudia-Janez.jpg\n",
      "This is the file name: 17-Cuadrada-Samantha-Ricciardi.jpg\n",
      "This is the file name: 18-Cuadrada-Valeria-Moy.jpg\n",
      "This is the file name: 19-Cuadrada-Melanie-Devlyn.jpg\n",
      "This is the file name: 20-Cuadrada-Natalia-Lafourcade-.jpg\n",
      "This is the file name: 21-Cuadrada-Gina-Diez.jpg\n",
      "This is the file name: 22-Cuadrada-Maria-Amparo-Casar.jpg\n",
      "This is the file name: 23-Cuadrada-Blanca-Trevino.jpg\n",
      "This is the file name: 24-Cuadrada-Irene-Espinosa.jpg\n",
      "This is the file name: 25-Cuadrada-Carmen-Boullosa.jpg\n",
      "This is the file name: Cuadrada-Luz-Ramirez.jpg\n",
      "This is the file name: Cuadrada-Ana-Longoria.jpg\n",
      "This is the file name: Cuadrada-Maria-Asuncion-Aramburuzabala.jpg\n",
      "This is the file name: Cuadrada-Yvonne-Ochoa.jpg\n",
      "This is the file name: Cuadrada-Elisa-Carrillo.jpg\n",
      "This is the file name: Cuadrada-Laura-Cruz.jpg\n",
      "This is the file name: Cuadrada-Frida-Guerrera.jpg\n",
      "This is the file name: Cuadrada-Carla-Adriana-Suarez.jpg\n",
      "This is the file name: Cuadrada-Karla-Berdichevsky-Feldman.jpg\n",
      "This is the file name: Cuadrada-Luisa-Wilson.jpg\n",
      "This is the file name: Cuadrada-Guadalupe-Philips.jpg\n",
      "This is the file name: Cuadrada-Clarisa-Pantoja-y-yune.jpg\n",
      "This is the file name: Cuadrada-Salma-Hayek.jpg\n",
      "This is the file name: Cuadrada-Tatiana-Bilbao.jpg\n",
      "This is the file name: Cuadrada-Mayra-Gonzalez.jpg\n",
      "This is the file name: Cuadrada-Fabiana-Zepeda.jpg\n",
      "This is the file name: Cuadrada-Claudia-Sheinbaum.jpg\n",
      "This is the file name: Cuadrada-Liliana-Reyes.jpg\n",
      "This is the file name: Cuadrada-Maria-Elena-Alvarez-Buylla.jpg\n",
      "This is the file name: Cuadrada-Yalitza-Aparicio.jpg\n",
      "This is the file name: Cuadrada-Mayes-Rubeo.jpg\n",
      "This is the file name: Cuadrada-Gloria-Guevara.jpg\n",
      "This is the file name: Cuadrada-Galia-Borja.jpg\n",
      "This is the file name: Cuadrada-Raquel-Buenrostro.jpg\n",
      "This is the file name: Cuadrada-Karime-Lopez.jpg\n",
      "This is the file name: Cuadrada-Daniela-Soto-Ines.jpg\n",
      "This is the file name: Cuadrada-Tabata-Vilar-Villa.jpg\n",
      "This is the file name: Cuadrada-Doña-Angela.jpg\n",
      "This is the file name: Cuadrada-Magdalena-Carral.jpg\n",
      "This is the file name: Cuadrada-Angelica-Ruiz.jpg\n",
      "This is the file name: Cuadrada-Silvia-Davila.jpg\n",
      "This is the file name: Cuadrada-Maria-Fernanda-Mejia.jpg\n",
      "This is the file name: Cuadrada-Laura-Diez-Barraso.jpg\n",
      "This is the file name: Cuadrada-Claudia-Marquez.jpg\n",
      "This is the file name: Cuadrada-Mariloli-Sanchez-Cano.jpg\n",
      "This is the file name: Cuadrada-Marinela-Servitje.jpg\n",
      "This is the file name: Cuadrada-Lourdes-Melgar.jpg\n",
      "This is the file name: Cuadrada-Silvia-Giorgiuli.jpg\n",
      "This is the file name: Cuadrada-Maria-Eugenia-Escobedo.jpg\n",
      "This is the file name: Cuadrada-Maricarmen-Suarez-Cue.jpg\n",
      "This is the file name: Cuadrada-LUZ-MARIA-GUTIERREZ.jpg\n",
      "This is the file name: Cuadrada-Esperanza-Martinez.jpg\n",
      "This is the file name: Cuadrada-Teresa-Galindo-UANL.jpg\n",
      "This is the file name: Cuadrada-Priscila-Pacheco.jpg\n",
      "This is the file name: Cuadrada-Gabriela-Vargas.jpg\n",
      "This is the file name: Cuadrada-Graciela-Marquez.jpg\n",
      "This is the file name: Cuadrada-Sonia-Mayra-Perez.jpg\n",
      "This is the file name: Cuadrada-Giuliana-Olmos.jpg\n",
      "This is the file name: Cuadrada-Fernanda-Melchor.jpg\n",
      "This is the file name: Cuadrada-Liza-Velarde.jpg\n",
      "This is the file name: Cuadrada-Ana-Paula-Ruiz-Galindo.jpg\n",
      "This is the file name: Cuadrada-Laura-Rojas-Hernandez.jpg\n",
      "This is the file name: Cuadrada-Margarita-Rios.jpg\n",
      "This is the file name: Cuadrada-Nicole-Reich.jpg\n",
      "This is the file name: Cuadrada-Sofia-Garrido-Freyria.jpg\n",
      "This is the file name: Clhoe-Aridjis-800.jpg\n",
      "This is the file name: Magdalena-Lopez-800.jpg\n",
      "This is the file name: Eiza-Gonzalez-800.jpg\n",
      "This is the file name: Carmen-Vazquez-800.jpg\n",
      "This is the file name: Luz-Elena-Jurado-800.jpg\n",
      "This is the file name: Paola-Villarreal-800.jpg\n",
      "This is the file name: Alejandra-de-la-Vega-800.jpg\n",
      "This is the file name: Valeria-Luiseli-800.jpg\n",
      "This is the file name: Graciela-Alvarez-Hoth-800.jpg\n",
      "This is the file name: Monica-Flores-800.jpg\n",
      "This is the file name: Patricia-Armendariz-800.jpg\n",
      "This is the file name: Monica-Lugo-Aranda.jpg\n",
      "This is the file name: Valeria-Chapa-800.jpg\n",
      "This is the file name: Rosangela-Guerra-800.jpg\n",
      "This is the file name: Paola-Moran-800.jpg\n",
      "This is the file name: Margo-Glantz-800.jpg\n",
      "This is the file name: MARIANA-BO-800.jpg\n",
      "This is the file name: Monica-Maccise-800.jpg\n",
      "This is the file name: Nina-Mayagoitia-ok.jpg\n",
      "This is the file name: Maite-Ramos-800.jpg\n"
     ]
    }
   ],
   "source": [
    "for y in items:\n",
    "    file_name = y[0].split('/')[-1]\n",
    "    print(f\"This is the file name: {file_name}\")\n",
    "    r = browser.get(y[0])\n",
    "    with open(file_name, 'wb') as f:\n",
    "        f.write(chunk)"
   ]
  },
  {
   "cell_type": "code",
   "execution_count": 86,
   "id": "elegant-system",
   "metadata": {},
   "outputs": [],
   "source": [
    "df.to_csv('mujeres.csv', encoding='latin1')"
   ]
  },
  {
   "cell_type": "code",
   "execution_count": null,
   "id": "prepared-junction",
   "metadata": {},
   "outputs": [],
   "source": []
  }
 ],
 "metadata": {
  "kernelspec": {
   "display_name": "Python 3",
   "language": "python",
   "name": "python3"
  },
  "language_info": {
   "codemirror_mode": {
    "name": "ipython",
    "version": 3
   },
   "file_extension": ".py",
   "mimetype": "text/x-python",
   "name": "python",
   "nbconvert_exporter": "python",
   "pygments_lexer": "ipython3",
   "version": "3.7.10"
  }
 },
 "nbformat": 4,
 "nbformat_minor": 5
}
